{
 "cells": [
  {
   "cell_type": "code",
   "execution_count": 7,
   "id": "1fd0f700",
   "metadata": {},
   "outputs": [],
   "source": [
    "def init_board():\n",
    "    board=[['N' for _ in range(3)] for x in range(3)]\n",
    "    return board"
   ]
  },
  {
   "cell_type": "code",
   "execution_count": 8,
   "id": "b7441a06",
   "metadata": {},
   "outputs": [],
   "source": [
    "def print_board(board):\n",
    "    print(\"Here all N's indicate Null\")\n",
    "    for row in board:\n",
    "        for char in row:\n",
    "            print(char,' ',end='')\n",
    "        print()"
   ]
  },
  {
   "cell_type": "code",
   "execution_count": null,
   "id": "cac0cb90",
   "metadata": {},
   "outputs": [],
   "source": [
    "def get_input(player,board):\n",
    "    while True:\n",
    "        row=int(input(\"Enter the row number here assume 0-2:\"))\n",
    "        column=int(input(\"Enter the column number here in between 0-2:\"))\n",
    "        if row in [0,1,2] and column in [0,1,2]:\n",
    "           if board[row][column]=='N':\n",
    "                board[row][column]=player   \n",
    "                break\n",
    "           else:\n",
    "               print('Bro i have taken that cell already...')\n",
    "        else:\n",
    "            print('Invalid row and column indices selected plz try again')"
   ]
  },
  {
   "cell_type": "code",
   "execution_count": null,
   "id": "5bfd063d",
   "metadata": {},
   "outputs": [],
   "source": [
    "def check_win(board,player):\n",
    "    for i in range(len(board)):\n",
    "        win=True\n",
    "        for j in range(len(board[i])):\n",
    "            if board[i][j]!=player:\n",
    "                win=False\n",
    "                break\n",
    "        if win:\n",
    "            print(f'{player} wins the match')\n",
    "            return True\n",
    "    for r in range(len(board)):\n",
    "        win=True\n",
    "        for c in range(len(board[r])):\n",
    "            if board[c][r]!=player:\n",
    "                win=False\n",
    "                break\n",
    "        if win:\n",
    "            print(f'{player} has won the match')\n",
    "            return True\n",
    "    win=True\n",
    "    for i in range(len(board)):\n",
    "        if board[i][i]!=player:\n",
    "            win=False\n",
    "            break\n",
    "    if win:\n",
    "        print(f'{player} has won the match')\n",
    "        return True\n",
    "    win=True\n",
    "    for i in range(len(board)):\n",
    "        if board[i][2-i]!=player:\n",
    "            win=False\n",
    "            break\n",
    "    if win:\n",
    "        print(f'{player} has won the match')\n",
    "        return True\n",
    "    return False"
   ]
  },
  {
   "cell_type": "code",
   "execution_count": null,
   "id": "c7ea6aa7",
   "metadata": {},
   "outputs": [],
   "source": [
    "def check_draw(board):\n",
    "    for i in range(len(board)):\n",
    "        for j in range(len(board[i])):\n",
    "            if board[i][j]=='N':\n",
    "                print('Board is not filled with the x\\'s or o\\'s')\n",
    "                return False\n",
    "    return True\n"
   ]
  },
  {
   "cell_type": "code",
   "execution_count": null,
   "id": "62463d6e",
   "metadata": {},
   "outputs": [],
   "source": [
    "print(\"--------------Welcome to tic tac toe game----------\")\n",
    "while True:\n",
    "    player_a=str(input(\"First player select your symbol(X/O):\")).lower()\n",
    "    player_b=None\n",
    "    if player_a=='x':\n",
    "        player_b='o'\n",
    "        break\n",
    "    elif player_a=='o':\n",
    "        player_b='x'\n",
    "        break\n",
    "    else:\n",
    "        print(\"Enter any valid choice X or O\")\n",
    "print(f'First player gets:{player_a}')\n",
    "print(f'Second player gets:{player_b}')\n",
    "print()\n",
    "print(\"====Setting up the board====\")\n",
    "board=init_board()\n",
    "print_board(board)\n",
    "print('---First move will be given to x and then o---')"
   ]
  },
  {
   "cell_type": "code",
   "execution_count": null,
   "id": "7f5f626c",
   "metadata": {},
   "outputs": [],
   "source": [
    "current_player=player_a if player_a=='x' else player_b\n",
    "while True:\n",
    "    print_board(board)\n",
    "    get_input(current_player,board)\n",
    "\n",
    "    if check_win(board,current_player):\n",
    "        print('Game over')\n",
    "    elif check_draw(board):\n",
    "        print('Game draw')\n",
    "    current_player='o' if current_player=='x' else 'x'\n",
    "\n"
   ]
  }
 ],
 "metadata": {
  "kernelspec": {
   "display_name": "Python 3",
   "language": "python",
   "name": "python3"
  },
  "language_info": {
   "codemirror_mode": {
    "name": "ipython",
    "version": 3
   },
   "file_extension": ".py",
   "mimetype": "text/x-python",
   "name": "python",
   "nbconvert_exporter": "python",
   "pygments_lexer": "ipython3",
   "version": "3.13.5"
  }
 },
 "nbformat": 4,
 "nbformat_minor": 5
}
